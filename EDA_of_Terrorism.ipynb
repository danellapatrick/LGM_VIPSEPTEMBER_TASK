{
  "nbformat": 4,
  "nbformat_minor": 0,
  "metadata": {
    "colab": {
      "name": "EDA of Terrorism ",
      "private_outputs": true,
      "provenance": [],
      "collapsed_sections": []
    },
    "kernelspec": {
      "name": "python3",
      "display_name": "Python 3"
    },
    "language_info": {
      "name": "python"
    }
  },
  "cells": [
    {
      "cell_type": "markdown",
      "metadata": {
        "id": "PiVxun-2had8"
      },
      "source": [
        "# LETS GROW MORE\n",
        "\n",
        "Data Science Internship (VIP)\n",
        "\n",
        "**Author:** Danella Patrick \n",
        "\n",
        "**Title** : Exploratory Data Analysis "
      ]
    },
    {
      "cell_type": "markdown",
      "metadata": {
        "id": "VQBTgQWYLxB_"
      },
      "source": [
        "LOADING DATA "
      ]
    },
    {
      "cell_type": "code",
      "metadata": {
        "id": "oD6zTqQ3LwBv"
      },
      "source": [
        "import pandas as pd\n",
        "import numpy as np \n",
        "import matplotlib.pyplot as plt\n",
        "import seaborn as sns"
      ],
      "execution_count": null,
      "outputs": []
    },
    {
      "cell_type": "code",
      "metadata": {
        "id": "LM8UIuHbL7EA"
      },
      "source": [
        "data=pd.read_csv('globalterrorismdb_0718dist.csv',encoding='latin1')\n",
        "data.head(2)"
      ],
      "execution_count": null,
      "outputs": []
    },
    {
      "cell_type": "code",
      "metadata": {
        "id": "R90TJGWRMXkb"
      },
      "source": [
        "data.tail(3)"
      ],
      "execution_count": null,
      "outputs": []
    },
    {
      "cell_type": "code",
      "metadata": {
        "id": "uzJGUcweMf5V"
      },
      "source": [
        "data.info()"
      ],
      "execution_count": null,
      "outputs": []
    },
    {
      "cell_type": "code",
      "metadata": {
        "id": "C-VGH0IaMzoe"
      },
      "source": [
        "data.shape"
      ],
      "execution_count": null,
      "outputs": []
    },
    {
      "cell_type": "code",
      "metadata": {
        "id": "kBD2K4XrMzp5"
      },
      "source": [
        "data.columns"
      ],
      "execution_count": null,
      "outputs": []
    },
    {
      "cell_type": "code",
      "metadata": {
        "id": "l8HVjDpdMzsd"
      },
      "source": [
        "data.columns.values"
      ],
      "execution_count": null,
      "outputs": []
    },
    {
      "cell_type": "code",
      "metadata": {
        "id": "pKrCBLoCNB7s"
      },
      "source": [
        "data.isnull().sum()"
      ],
      "execution_count": null,
      "outputs": []
    },
    {
      "cell_type": "code",
      "metadata": {
        "id": "q5t-0YpKNkGB"
      },
      "source": [
        "data.shape"
      ],
      "execution_count": null,
      "outputs": []
    },
    {
      "cell_type": "code",
      "metadata": {
        "id": "SoWwh-b1NvVV"
      },
      "source": [
        "data.describe()"
      ],
      "execution_count": null,
      "outputs": []
    },
    {
      "cell_type": "markdown",
      "metadata": {
        "id": "NiOCBl-fMhQt"
      },
      "source": [
        "Renaming the columns "
      ]
    },
    {
      "cell_type": "code",
      "metadata": {
        "id": "rS6CJXCmOFKN"
      },
      "source": [
        "for n in data.columns:\n",
        "  print(n,end=',')"
      ],
      "execution_count": null,
      "outputs": []
    },
    {
      "cell_type": "code",
      "metadata": {
        "id": "8vqTjoVpOFVw"
      },
      "source": [
        "\n",
        "data.rename(columns={'iyear':'Year','imonth':'Month','iday':\"day\",'gname':'Group','country_txt':'Country','region_txt':'Region','provstate':'State','city':'City','latitude':'latitude',\n",
        "    'longitude':'longitude','summary':'summary','attacktype1_txt':'Attacktype','targtype1_txt':'Targettype','weaptype1_txt':'Weapon','nkill':'kill',\n",
        "     'nwound':'Wound'},inplace=True)"
      ],
      "execution_count": null,
      "outputs": []
    },
    {
      "cell_type": "code",
      "metadata": {
        "id": "120dGLBcO6Vg"
      },
      "source": [
        "data = data[['Year','Month','day','Country','State','Region','City','latitude','longitude',\"Attacktype\",'kill',\n",
        "               'Wound','target1','summary','Group','Targettype','Weapon','motive']]"
      ],
      "execution_count": null,
      "outputs": []
    },
    {
      "cell_type": "code",
      "metadata": {
        "id": "lFJvycsYO7cp"
      },
      "source": [
        "data.head(2)"
      ],
      "execution_count": null,
      "outputs": []
    },
    {
      "cell_type": "code",
      "metadata": {
        "id": "odAqLrNqO7jD"
      },
      "source": [
        "data.isnull().sum()"
      ],
      "execution_count": null,
      "outputs": []
    },
    {
      "cell_type": "markdown",
      "metadata": {
        "id": "khPGz7QINIeW"
      },
      "source": [
        "REMOVING THE NULL VALUES "
      ]
    },
    {
      "cell_type": "code",
      "metadata": {
        "id": "K-O2H82sO7kM"
      },
      "source": [
        "data['latitude']=data['latitude'].fillna(0)\n",
        "data['longitude']=data['longitude'].fillna(0)\n",
        "data['kill']=data['kill'].fillna(0)\n",
        "data['Wound']=data['Wound'].fillna(0)\n",
        "\n"
      ],
      "execution_count": null,
      "outputs": []
    },
    {
      "cell_type": "code",
      "metadata": {
        "id": "JdZT-xU4S_nq"
      },
      "source": [
        "data['Casualities'] = data['kill'] + data['Wound']"
      ],
      "execution_count": null,
      "outputs": []
    },
    {
      "cell_type": "code",
      "metadata": {
        "id": "UWGfS2eaPqcF"
      },
      "source": [
        "data.isnull().sum()"
      ],
      "execution_count": null,
      "outputs": []
    },
    {
      "cell_type": "code",
      "metadata": {
        "id": "YUaBbFuCQTqH"
      },
      "source": [
        "data.describe()"
      ],
      "execution_count": null,
      "outputs": []
    },
    {
      "cell_type": "markdown",
      "metadata": {
        "id": "pZ9cRAwgQZx-"
      },
      "source": [
        "OBSERVATION\n",
        "1. The data is between year 1970 to 2007\n",
        "2. The maximum people killed are 1384 \n",
        "3. The maximum people wounded are 8191\n",
        "4. The highest casualitiy are 9574"
      ]
    },
    {
      "cell_type": "code",
      "metadata": {
        "id": "XAHKyt9XRHdM"
      },
      "source": [
        "result1 = data.pivot_table(index=['State'], columns=['kill'], aggfunc='count')\n",
        "print(result1)"
      ],
      "execution_count": null,
      "outputs": []
    },
    {
      "cell_type": "code",
      "metadata": {
        "id": "M2F17nXKTc0L"
      },
      "source": [
        "result2 = data.pivot_table(index=['Country'], columns=['kill'], aggfunc='count')\n",
        "print(result2)"
      ],
      "execution_count": null,
      "outputs": []
    },
    {
      "cell_type": "code",
      "metadata": {
        "id": "qm4__YO8V0qj"
      },
      "source": [
        "#Attack on region\n",
        "\n",
        "attack1 = data.Region.value_counts()[:10]\n",
        "attack1"
      ],
      "execution_count": null,
      "outputs": []
    },
    {
      "cell_type": "code",
      "metadata": {
        "id": "LGAwdB93SQ0O"
      },
      "source": [
        "pd.crosstab(data.Year, data.Region).plot(kind='area',stacked=False,figsize=(20,10))\n",
        "plt.title('Terrorist Activities By Region In Each Year',fontsize=25)\n",
        "plt.ylabel('Number of Attacks',fontsize=20)\n",
        "plt.xlabel(\"Year\",fontsize=20)\n",
        "plt.show()"
      ],
      "execution_count": null,
      "outputs": []
    },
    {
      "cell_type": "code",
      "metadata": {
        "id": "6ZDx6B63VrNK"
      },
      "source": [
        "#attack on country \n",
        "attack = data.Country.value_counts()[:15]\n",
        "attack"
      ],
      "execution_count": null,
      "outputs": []
    },
    {
      "cell_type": "code",
      "metadata": {
        "id": "UHib_5mpWKsL"
      },
      "source": [
        "\n",
        "plt.subplots(figsize=(20,10))\n",
        "sns.barplot(data['Country'].value_counts()[:10].index,data['Country'].value_counts()[:10].values,palette='crest')\n",
        "plt.title('Top Countries Affected')\n",
        "plt.xlabel('Countries')\n",
        "plt.ylabel('Count')\n",
        "plt.xticks(rotation = 50)\n",
        "plt.show()"
      ],
      "execution_count": null,
      "outputs": []
    },
    {
      "cell_type": "code",
      "metadata": {
        "id": "hxsn_yMCV7cn"
      },
      "source": [
        "#Attack on State \n",
        "\n",
        "attack2 = data.State.value_counts()[:10]\n",
        "attack2"
      ],
      "execution_count": null,
      "outputs": []
    },
    {
      "cell_type": "code",
      "metadata": {
        "id": "w0vb7dxqYMyM"
      },
      "source": [
        "#States \n",
        "plt.subplots(figsize=(20,10))\n",
        "sns.barplot(data['State'].value_counts()[:10].index,data['State'].value_counts()[:10].values,palette='tab10')\n",
        "plt.title('Top States Affected')\n",
        "plt.xlabel('States')\n",
        "plt.ylabel('Count')\n",
        "plt.xticks(rotation = 50)\n",
        "plt.show()"
      ],
      "execution_count": null,
      "outputs": []
    },
    {
      "cell_type": "code",
      "metadata": {
        "id": "ujoRIl_lbtBl"
      },
      "source": [
        "#Attack Year Wise\n",
        "attack3 = data.City.value_counts()[:10]\n",
        "attack3"
      ],
      "execution_count": null,
      "outputs": []
    },
    {
      "cell_type": "code",
      "metadata": {
        "id": "8KS8v_H4b4ta"
      },
      "source": [
        "#City\n",
        "plt.subplots(figsize=(20,10))\n",
        "sns.barplot(data['City'].value_counts(dropna=False)[:10].index,data['City'].value_counts()[:10].values,palette='Set2')\n",
        "plt.title('Top 10 Ciities Affected')\n",
        "plt.xlabel('Cities')\n",
        "plt.ylabel('Count')\n",
        "plt.xticks(rotation = 50)\n",
        "plt.show()"
      ],
      "execution_count": null,
      "outputs": []
    },
    {
      "cell_type": "code",
      "metadata": {
        "id": "KNaLvPPibI_E"
      },
      "source": [
        "#Attack Year Wise\n",
        "attack4 = data.Year.value_counts()[:10]\n",
        "attack4"
      ],
      "execution_count": null,
      "outputs": []
    },
    {
      "cell_type": "code",
      "metadata": {
        "id": "gAheomtoauce"
      },
      "source": [
        "# Attack by Year \n",
        "year = data['Year'].unique()\n",
        "years_count = data['Year'].value_counts(dropna = False).sort_index()\n",
        "plt.figure(figsize = (18,10))\n",
        "sns.barplot(x = year,\n",
        "           y = years_count,\n",
        "           palette = \"tab10\")\n",
        "plt.xticks(rotation = 50)\n",
        "plt.xlabel('Attacking Year',fontsize=20)\n",
        "plt.ylabel('Number of Attacks Each Year',fontsize=20)\n",
        "plt.title('Attacks In Years',fontsize=30)\n",
        "plt.show()"
      ],
      "execution_count": null,
      "outputs": []
    },
    {
      "cell_type": "code",
      "metadata": {
        "id": "zgdsg0FNa5PA"
      },
      "source": [
        "data['Attacktype'].value_counts().plot(kind='bar',figsize=(20,10),color='salmon')\n",
        "plt.xticks(rotation = 50)\n",
        "plt.xlabel(\"Attacktype\",fontsize=15)\n",
        "plt.ylabel(\"Number of attack\",fontsize=15)\n",
        "plt.title(\"Name of attacktype\",fontsize=20)\n",
        "plt.show()"
      ],
      "execution_count": null,
      "outputs": []
    },
    {
      "cell_type": "code",
      "metadata": {
        "id": "AoYeHC5idEXI"
      },
      "source": [
        "\n",
        "data[['Attacktype','Wound']].groupby([\"Attacktype\"],axis=0).sum().plot(kind='bar',figsize=(20,10),color=['thistle'])\n",
        "plt.xticks(rotation=50)\n",
        "plt.title(\"Number of wounded  \",fontsize=20)\n",
        "plt.ylabel('Number of people',fontsize=15)\n",
        "plt.xlabel('Attack type',fontsize=15)\n",
        "plt.show()"
      ],
      "execution_count": null,
      "outputs": []
    },
    {
      "cell_type": "code",
      "metadata": {
        "id": "vfde1i3fclv8"
      },
      "source": [
        "data['Group'].value_counts().to_frame().drop('Unknown').head(10).plot(kind='bar',color='mediumpurple',figsize=(20,10))\n",
        "plt.title(\"Top 10 terrorist group attack\",fontsize=20)\n",
        "plt.xlabel(\"terrorist group name\",fontsize=15)\n",
        "plt.ylabel(\"Attack number\",fontsize=15)\n",
        "plt.show()"
      ],
      "execution_count": null,
      "outputs": []
    },
    {
      "cell_type": "code",
      "metadata": {
        "id": "ahygClfMgCek"
      },
      "source": [
        "kill = data.loc[:,'kill']\n",
        "print('Number of people killed by terror attack:', int(sum(kill.dropna())))"
      ],
      "execution_count": null,
      "outputs": []
    },
    {
      "cell_type": "code",
      "metadata": {
        "id": "Opfa6RnGgg_X"
      },
      "source": [
        "df=data[['Group','Country','kill']]\n",
        "df=df.groupby(['Group','Country'],axis=0).sum().sort_values('kill',ascending=False).drop('Unknown').reset_index().head(10)\n",
        "df"
      ],
      "execution_count": null,
      "outputs": []
    },
    {
      "cell_type": "markdown",
      "metadata": {
        "id": "IbvluLkgd_1n"
      },
      "source": [
        "**RESULTS** \n",
        "1. **South America Region** was highly attacked by the Terrorist that was : \n",
        "17288\n",
        "2. **Peru** was the country which was highly attacked by the terrosit \n",
        "3. **Northern Ireland** was the State which was attacked by the terroist \n",
        "4. Most Attacks were done in **1992**\n",
        "5. Most of the People were Killed and wounded by **Bombing/ Explosions** \n",
        "6. Most of the attacks were done by **Shining Path (SL)**\n",
        "7. Number of people killed by terror attack: **191943**\n",
        "  "
      ]
    },
    {
      "cell_type": "code",
      "metadata": {
        "id": "nJ2CabQ4g6vh"
      },
      "source": [
        ""
      ],
      "execution_count": null,
      "outputs": []
    }
  ]
}